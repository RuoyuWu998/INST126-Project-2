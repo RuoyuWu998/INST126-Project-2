{
 "cells": [
  {
   "cell_type": "code",
   "execution_count": 1,
   "metadata": {},
   "outputs": [],
   "source": [
    "def decrypt(ciphertext):\n",
    "    plaintext=\"\"\n",
    "    for i in range (0, len(ciphertext)):\n",
    "        if i%2==0:\n",
    "            plain_ascii=ord(ciphertext[i])-1\n",
    "            plaintext=plaintext+chr(plain_ascii)\n",
    "        elif i%2==1:\n",
    "            plain_ascii=ord(ciphertext[i])+1\n",
    "            plaintext=plaintext+chr(plain_ascii)\n",
    "    print(plaintext)"
   ]
  },
  {
   "cell_type": "code",
   "execution_count": 2,
   "metadata": {},
   "outputs": [
    {
     "name": "stdout",
     "output_type": "stream",
     "text": [
      "Guess a letter: Q\n",
      "you have 10 lives left and you have used these letters: Q\n",
      "current word: Q----\n",
      "Guess a letter: Q\n",
      "you have 10 lives left and you have used these letters: Q Q\n",
      "current word: QQ---\n",
      "Guess a letter: Q\n",
      "You have already used that letter. Guess another letter.\n",
      "you have 10 lives left and you have used these letters: Q Q Q\n",
      "current word: QQ---\n",
      "Guess a letter: J\n",
      "you have 10 lives left and you have used these letters: Q Q Q J\n",
      "current word: QQJ--\n",
      "Guess a letter: F\n",
      "you have 10 lives left and you have used these letters: Q Q Q J F\n",
      "current word: QQJ-F\n",
      "Guess a letter: K\n",
      "Your letter,Kis not in the word.\n",
      "you have 9 lives left and you have used these letters: Q Q Q J F K\n",
      "current word: QQJ-F\n",
      "Guess a letter: Y\n",
      "YAY! You guessed the word QQJYF !!\n",
      "This was the encrypted message!\n",
      "The decoded message says: PRIZE\n"
     ]
    }
   ],
   "source": [
    "import random\n",
    "\n",
    "def hangman():\n",
    "\n",
    "    words = ['WHDSPQZ', 'XHO', 'TTDBFRT', 'QQJYF', 'ENQD', 'DNPK', 'CNTR', 'EHWHOD', 'TSVMOHOF', 'XNOCFQGTM']\n",
    "    random_word = random.choice(words)\n",
    "\n",
    "    life = 10\n",
    "    letter = ''\n",
    "    new_letter = ''\n",
    "    p = '' # p is the current_word\n",
    "\n",
    "    for i in range(0,len(random_word)+1 ,1):\n",
    "        p += '-'\n",
    "\n",
    "    while life>0:\n",
    "\n",
    "        if  new_letter in random_word :\n",
    "\n",
    "            index = random_word.index(new_letter)  \n",
    "\n",
    "            if len(letter) > 2: #more than one character\n",
    "                cnt = letter[:len(letter) - 2] .count(new_letter)\n",
    "                if cnt > 0:\n",
    "\n",
    "                    for i in range(0, cnt, 1):\n",
    "                        index = random_word.find(new_letter, index + 1)\n",
    "\n",
    "                        if index == -1:\n",
    "                            print(\"You have already used that letter. Guess another letter.\")\n",
    "                            break\n",
    "            if index != -1:\n",
    "                p = p[:index] + new_letter + p[index + 1:]\n",
    "            \n",
    "        else: \n",
    "            life -= 1\n",
    "            print(\"Your letter,\"+ new_letter + \"is not in the word.\")\n",
    "        if p == random_word:\n",
    "            print(\"YAY! You guessed the word \"+ random_word+\" !!\")\n",
    "            print(\"This was the encrypted message!\")\n",
    "            print(\"The decoded message says: \",end='')\n",
    "            decrypt(random_word)\n",
    "            break\n",
    "        print(\"you have \"+str(life)+\" lives left and you have used these letters:\"+letter)\n",
    "        print(\"current word: \", end = '')\n",
    "        print(p)\n",
    "        new_letter = input(\"Guess a letter: \").upper()\n",
    "        letter = letter+\" \"+new_letter\n",
    "\n",
    "    if life <= 0:\n",
    "        print(\"you died, sorry. The word was\"+ random_word)\n",
    "        print(\"You'll have to guess the word correctly to decode the message\")\n",
    "\n",
    "hangman()\n",
    "    "
   ]
  }
 ],
 "metadata": {
  "kernelspec": {
   "display_name": "Python 3",
   "language": "python",
   "name": "python3"
  },
  "language_info": {
   "codemirror_mode": {
    "name": "ipython",
    "version": 3
   },
   "file_extension": ".py",
   "mimetype": "text/x-python",
   "name": "python",
   "nbconvert_exporter": "python",
   "pygments_lexer": "ipython3",
   "version": "3.8.5"
  }
 },
 "nbformat": 4,
 "nbformat_minor": 4
}
